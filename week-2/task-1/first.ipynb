{
 "cells": [
  {
   "cell_type": "code",
   "execution_count": 6,
   "id": "d61e14b0-3e98-43bd-a3b0-f05efc03f2dc",
   "metadata": {},
   "outputs": [
    {
     "name": "stdout",
     "output_type": "stream",
     "text": [
      "Requirement already satisfied: numpy in f:\\learning\\ai-ml\\ai-ml\\week-2\\venv\\lib\\site-packages (2.2.2)\n",
      "Note: you may need to restart the kernel to use updated packages.\n"
     ]
    }
   ],
   "source": [
    "pip install numpy"
   ]
  },
  {
   "cell_type": "code",
   "execution_count": 7,
   "id": "3997608b-4521-499d-b2d6-e88f37fd823b",
   "metadata": {},
   "outputs": [],
   "source": [
    "import numpy as np"
   ]
  },
  {
   "cell_type": "code",
   "execution_count": 8,
   "id": "8ee82f26-5f6e-41a2-ae05-06c5b0e93c30",
   "metadata": {},
   "outputs": [
    {
     "name": "stdout",
     "output_type": "stream",
     "text": [
      "[1 2 3 4 5 6]\n"
     ]
    }
   ],
   "source": [
    "lst = np.array([1,2,3,4,5,6])\n",
    "print(lst)"
   ]
  },
  {
   "cell_type": "code",
   "execution_count": 9,
   "id": "866fd9b3-f428-499c-bee7-99b97a2b40e0",
   "metadata": {},
   "outputs": [
    {
     "name": "stdout",
     "output_type": "stream",
     "text": [
      "[1 2 3]\n"
     ]
    }
   ],
   "source": [
    "oneD= np.array([1,2,3])\n",
    "print(oneD)"
   ]
  },
  {
   "cell_type": "code",
   "execution_count": 10,
   "id": "3395a8e7-9350-4e6c-a4f1-0e7cc79ee9a4",
   "metadata": {},
   "outputs": [
    {
     "name": "stdout",
     "output_type": "stream",
     "text": [
      "[[1 2 3]\n",
      " [4 5 6]]\n",
      "6\n"
     ]
    }
   ],
   "source": [
    "twoD= np.array([[1,2,3],[4,5,6]])\n",
    "print(twoD)\n",
    "print(twoD[1,2])"
   ]
  },
  {
   "cell_type": "code",
   "execution_count": 19,
   "id": "212d6265-e4cf-4032-ab5f-a11a4e0a886d",
   "metadata": {},
   "outputs": [
    {
     "name": "stdout",
     "output_type": "stream",
     "text": [
      "[[[ 1  2  3]\n",
      "  [ 4  5  6]]\n",
      "\n",
      " [[ 7  8  9]\n",
      "  [10 11 12]]\n",
      "\n",
      " [[13 14 15]\n",
      "  [16 17 18]]]\n",
      "5\n"
     ]
    }
   ],
   "source": [
    "threeD = np.array([[[1, 2, 3], [4, 5, 6]],\n",
    "                   [[7, 8, 9],[10,11,12]],\n",
    "                   [[13,14,15],[16,17,18]]\n",
    "                   ])\n",
    "print(threeD)\n",
    "\n",
    "print(threeD[0,1,1])"
   ]
  },
  {
   "cell_type": "code",
   "execution_count": null,
   "id": "f6aec001",
   "metadata": {},
   "outputs": [],
   "source": []
  }
 ],
 "metadata": {
  "kernelspec": {
   "display_name": "venv",
   "language": "python",
   "name": "python3"
  },
  "language_info": {
   "codemirror_mode": {
    "name": "ipython",
    "version": 3
   },
   "file_extension": ".py",
   "mimetype": "text/x-python",
   "name": "python",
   "nbconvert_exporter": "python",
   "pygments_lexer": "ipython3",
   "version": "3.10.7"
  }
 },
 "nbformat": 4,
 "nbformat_minor": 5
}
