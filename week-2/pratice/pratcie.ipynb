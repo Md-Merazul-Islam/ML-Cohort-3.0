{
 "cells": [
  {
   "cell_type": "code",
   "execution_count": 1,
   "id": "d7e1c18d-6468-4de3-9fae-45bd9ab56584",
   "metadata": {},
   "outputs": [],
   "source": [
    "import numpy as np "
   ]
  },
  {
   "cell_type": "code",
   "execution_count": 2,
   "id": "8a190139-85b8-4ad7-b3d4-ba33f2c58286",
   "metadata": {},
   "outputs": [
    {
     "name": "stdout",
     "output_type": "stream",
     "text": [
      "[1. 1. 1. 1.]\n"
     ]
    }
   ],
   "source": [
    "test = np.ones(4)\n",
    "print(test)"
   ]
  },
  {
   "cell_type": "code",
   "execution_count": 3,
   "id": "dc0bfaf2-3806-465b-8d5d-c805b8d2ba50",
   "metadata": {},
   "outputs": [
    {
     "name": "stdout",
     "output_type": "stream",
     "text": [
      "[1 1 1 1 1]\n"
     ]
    }
   ],
   "source": [
    "test = np.ones(int(5), dtype=int)\n",
    "print(test)"
   ]
  },
  {
   "cell_type": "code",
   "execution_count": 4,
   "id": "1db0e807-5185-4614-9d46-e451c24fa586",
   "metadata": {},
   "outputs": [
    {
     "name": "stdout",
     "output_type": "stream",
     "text": [
      "[[0 0 0 0]\n",
      " [0 0 0 0]\n",
      " [0 0 0 0]]\n"
     ]
    }
   ],
   "source": [
    "z= np.zeros((3,4),dtype=int)\n",
    "print(z)"
   ]
  },
  {
   "cell_type": "code",
   "execution_count": 10,
   "id": "06cf9c82-2bd7-450e-af33-c3afea82f7be",
   "metadata": {},
   "outputs": [
    {
     "name": "stdout",
     "output_type": "stream",
     "text": [
      "[ 1  3  5  7  9 11 13 15 17 19 21 23]\n",
      "[0.   1.25 2.5  3.75 5.  ]\n"
     ]
    }
   ],
   "source": [
    "arr= np.arange(1,25,2)\n",
    "print(arr)\n",
    "ar1= np.linspace(0,5,5)\n",
    "print(ar1)"
   ]
  },
  {
   "cell_type": "code",
   "execution_count": 6,
   "id": "0bd74012-50b6-41c6-bc1c-77e28f0df11b",
   "metadata": {},
   "outputs": [
    {
     "name": "stdout",
     "output_type": "stream",
     "text": [
      "[[ 1  3  5]\n",
      " [ 7  9 11]\n",
      " [13 15 17]\n",
      " [19 21 23]]\n"
     ]
    }
   ],
   "source": [
    "matrix_arr= arr.reshape(4,3)\n",
    "print(matrix_arr)"
   ]
  },
  {
   "cell_type": "code",
   "execution_count": 7,
   "id": "a742b11c-25d7-476e-9e82-93d258ed07d9",
   "metadata": {},
   "outputs": [
    {
     "name": "stdout",
     "output_type": "stream",
     "text": [
      "[ 0  1  2  3  4  5  6  7  8  9 10 11 12 13 14 15 16 17]\n",
      "[20 21 22 23 24 25 26 27 28 29 30 31 32 33 34 35 36 37]\n",
      "[20 22 24 26 28 30 32 34 36 38 40 42 44 46 48 50 52 54]\n"
     ]
    }
   ],
   "source": [
    "a = np.arange(0,18)\n",
    "b = np.arange(20,38)\n",
    "print(a)\n",
    "print(b)\n",
    "print(a+b)"
   ]
  },
  {
   "cell_type": "code",
   "execution_count": 8,
   "id": "18426303-80ef-42c6-a781-a95abb697571",
   "metadata": {},
   "outputs": [
    {
     "name": "stdout",
     "output_type": "stream",
     "text": [
      "[[20 22 24 26 28 30]\n",
      " [32 34 36 38 40 42]\n",
      " [44 46 48 50 52 54]]\n"
     ]
    }
   ],
   "source": [
    "r_a = a.reshape(3,6)\n",
    "r_b = b.reshape(3,6)\n",
    "print(r_a+r_b)"
   ]
  },
  {
   "cell_type": "code",
   "execution_count": 11,
   "id": "d1396ccd-3b87-4559-ace1-b54e7e5a3b9a",
   "metadata": {},
   "outputs": [
    {
     "name": "stdout",
     "output_type": "stream",
     "text": [
      "Matrix Multiplication:\n",
      " [[19 22]\n",
      " [43 50]]\n"
     ]
    }
   ],
   "source": [
    "A = np.array([[1, 2], [3, 4]])\n",
    "B = np.array([[5, 6], [7, 8]])\n",
    "\n",
    "# Matrix multiplication\n",
    "C = np.dot(A, B)  # or A @ B\n",
    "print(\"Matrix Multiplication:\\n\", C)\n"
   ]
  },
  {
   "cell_type": "code",
   "execution_count": null,
   "id": "41a305c3",
   "metadata": {},
   "outputs": [],
   "source": []
  }
 ],
 "metadata": {
  "kernelspec": {
   "display_name": "venv",
   "language": "python",
   "name": "python3"
  },
  "language_info": {
   "codemirror_mode": {
    "name": "ipython",
    "version": 3
   },
   "file_extension": ".py",
   "mimetype": "text/x-python",
   "name": "python",
   "nbconvert_exporter": "python",
   "pygments_lexer": "ipython3",
   "version": "3.10.7"
  }
 },
 "nbformat": 4,
 "nbformat_minor": 5
}
