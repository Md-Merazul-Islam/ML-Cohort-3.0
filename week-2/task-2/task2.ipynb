{
 "cells": [
  {
   "cell_type": "code",
   "execution_count": 15,
   "id": "5e87bb83-ea45-4c67-9e72-de0d91f988ad",
   "metadata": {},
   "outputs": [],
   "source": [
    "import  numpy as np"
   ]
  },
  {
   "cell_type": "code",
   "execution_count": 16,
   "id": "96d1bef4-8478-4dd0-887b-0a8d3147d268",
   "metadata": {},
   "outputs": [
    {
     "name": "stdout",
     "output_type": "stream",
     "text": [
      "[ 0  1  2  3  4  5  6  7  8  9 10 11 12 13 14 15 16 17]\n",
      "[20 21 22 23 24 25 26 27 28 29 30 31 32 33 34 35 36 37]\n",
      "[20 22 24 26 28 30 32 34 36 38 40 42 44 46 48 50 52 54]\n"
     ]
    }
   ],
   "source": [
    "a = np.arange(0,18)\n",
    "b = np.arange(20,38)\n",
    "print(a)\n",
    "print(b)\n",
    "print(a+b)"
   ]
  },
  {
   "cell_type": "code",
   "execution_count": 22,
   "id": "abcf7431-6fc9-443e-ae3c-a1d13ecc7ab0",
   "metadata": {},
   "outputs": [
    {
     "name": "stdout",
     "output_type": "stream",
     "text": [
      "[[ 0  1  2  3  4  5]\n",
      " [ 6  7  8  9 10 11]\n",
      " [12 13 14 15 16 17]]\n",
      "[[20 21 22 23 24 25]\n",
      " [26 27 28 29 30 31]\n",
      " [32 33 34 35 36 37]]\n",
      "[[20 22 24 26 28 30]\n",
      " [32 34 36 38 40 42]\n",
      " [44 46 48 50 52 54]]\n"
     ]
    }
   ],
   "source": [
    "c= a.reshape(3,6)\n",
    "d= b.reshape(3,6)\n",
    "print(c)\n",
    "print(d)\n",
    "print(c+d)"
   ]
  },
  {
   "cell_type": "code",
   "execution_count": null,
   "id": "04509c0a-38f3-46d4-88b3-a3133ded9f35",
   "metadata": {},
   "outputs": [],
   "source": []
  }
 ],
 "metadata": {
  "kernelspec": {
   "display_name": "Python 3 (ipykernel)",
   "language": "python",
   "name": "python3"
  },
  "language_info": {
   "codemirror_mode": {
    "name": "ipython",
    "version": 3
   },
   "file_extension": ".py",
   "mimetype": "text/x-python",
   "name": "python",
   "nbconvert_exporter": "python",
   "pygments_lexer": "ipython3",
   "version": "3.10.7"
  }
 },
 "nbformat": 4,
 "nbformat_minor": 5
}
