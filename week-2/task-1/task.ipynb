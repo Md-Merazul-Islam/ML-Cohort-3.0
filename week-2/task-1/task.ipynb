{
 "cells": [
  {
   "cell_type": "code",
   "execution_count": 2,
   "id": "7193540e-9c6e-4796-85eb-a418f9b63364",
   "metadata": {},
   "outputs": [],
   "source": [
    "import numpy as np"
   ]
  },
  {
   "cell_type": "code",
   "execution_count": 15,
   "id": "4d324579-de2b-49d6-a6d6-21e0cde2d48c",
   "metadata": {},
   "outputs": [
    {
     "name": "stdout",
     "output_type": "stream",
     "text": [
      "[[1 2 3]\n",
      " [4 5 6]]\n",
      "transpose matrix:\n",
      "[[np.int64(1), np.int64(4)], [np.int64(2), np.int64(5)], [np.int64(3), np.int64(6)]]\n",
      "transpose matrix using build in :\n",
      "[[1 4]\n",
      " [2 5]\n",
      " [3 6]]\n"
     ]
    }
   ],
   "source": [
    "tow_d = np.array([[1,2,3],[4,5,6]])\n",
    "print(tow_d)\n",
    "\n",
    "\n",
    "\n",
    "def transpose(matrix):\n",
    "    row ,col = len(matrix), len(matrix[0])\n",
    "    ans= [[0]*row for _ in range(col)]\n",
    "    for i in range(row):\n",
    "        for j in range(col):\n",
    "            ans[j][i]=matrix[i][j]\n",
    "    return ans\n",
    "\n",
    "transpose_matrix = transpose(tow_d)\n",
    "print(\"transpose matrix:\")\n",
    "print(transpose_matrix)\n",
    "\n",
    "print(\"transpose matrix using build in :\")\n",
    "\n",
    "print(tow_d.T)\n"
   ]
  },
  {
   "cell_type": "code",
   "execution_count": 20,
   "id": "fc6af6fa-945c-417f-877d-a88239d55efd",
   "metadata": {},
   "outputs": [
    {
     "name": "stdout",
     "output_type": "stream",
     "text": [
      "Sum of elements at (0,1) and (1,0) of matrix A and B is: 12\n",
      "Sum of elements of matrix A and B is: 78\n",
      "10\n"
     ]
    }
   ],
   "source": [
    "A = np.array([[1,2,3],[4,5,6]])\n",
    "B = np.array([[7,8,9],[10,11,12]])\n",
    "\n",
    "sum = A[0,1]+ B[1,0]  #2+10\n",
    "\n",
    "print(\"Sum of elements at (0,1) and (1,0) of matrix A and B is:\", sum)\n",
    "\n",
    "print(\"Sum of elements of matrix A and B is:\", np.sum(A+B))  # 58\n",
    "\n",
    "diff = B[1,2]- A[0,1]\n",
    "print(diff)"
   ]
  },
  {
   "cell_type": "code",
   "execution_count": null,
   "id": "956bcec8",
   "metadata": {},
   "outputs": [],
   "source": []
  }
 ],
 "metadata": {
  "kernelspec": {
   "display_name": "venv",
   "language": "python",
   "name": "python3"
  },
  "language_info": {
   "codemirror_mode": {
    "name": "ipython",
    "version": 3
   },
   "file_extension": ".py",
   "mimetype": "text/x-python",
   "name": "python",
   "nbconvert_exporter": "python",
   "pygments_lexer": "ipython3",
   "version": "3.10.7"
  }
 },
 "nbformat": 4,
 "nbformat_minor": 5
}
